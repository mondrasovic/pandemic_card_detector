{
 "cells": [
  {
   "cell_type": "code",
<<<<<<< HEAD
   "execution_count": 1,
   "metadata": {},
   "outputs": [
    {
     "name": "stderr",
     "output_type": "stream",
     "text": [
      "2023-02-07 06:45:43.622432: I tensorflow/core/platform/cpu_feature_guard.cc:193] This TensorFlow binary is optimized with oneAPI Deep Neural Network Library (oneDNN) to use the following CPU instructions in performance-critical operations:  AVX2 FMA\n",
      "To enable them in other operations, rebuild TensorFlow with the appropriate compiler flags.\n",
      "2023-02-07 06:46:02.564434: W tensorflow/compiler/xla/stream_executor/platform/default/dso_loader.cc:64] Could not load dynamic library 'libnvinfer.so.7'; dlerror: libnvinfer.so.7: cannot open shared object file: No such file or directory; LD_LIBRARY_PATH: /mnt/e/venvs/wsl-ml/lib/python3.10/site-packages/cv2/../../lib64:\n",
      "2023-02-07 06:46:02.567611: W tensorflow/compiler/xla/stream_executor/platform/default/dso_loader.cc:64] Could not load dynamic library 'libnvinfer_plugin.so.7'; dlerror: libnvinfer_plugin.so.7: cannot open shared object file: No such file or directory; LD_LIBRARY_PATH: /mnt/e/venvs/wsl-ml/lib/python3.10/site-packages/cv2/../../lib64:\n",
      "2023-02-07 06:46:02.567622: W tensorflow/compiler/tf2tensorrt/utils/py_utils.cc:38] TF-TRT Warning: Cannot dlopen some TensorRT libraries. If you would like to use Nvidia GPU with TensorRT, please make sure the missing libraries mentioned above are installed properly.\n"
     ]
    }
   ],
   "source": [
=======
   "execution_count": null,
   "metadata": {},
   "outputs": [],
   "source": [
    "import os\n",
    "\n",
    "os.environ[\"DATASET_DIR\"] = \"/home/mond/datasets/pandemic\"\n",
    "\n",
>>>>>>> add6509 (Initial commit)
    "import cv2 as cv\n",
    "import numpy as np\n",
    "import tensorflow as tf\n",
    "from IPython.display import display\n",
    "from PIL import Image\n",
    "\n",
    "np.set_printoptions(formatter={'float': lambda x: f\"{x:.4f}\"})\n",
    "\n",
    "%load_ext autoreload\n",
    "%autoreload 2"
   ]
  },
  {
   "cell_type": "code",
   "execution_count": null,
   "metadata": {},
   "outputs": [],
   "source": [
<<<<<<< HEAD
    "from ppc.training.model import ShallowKerasClassifier, build_model\n",
    "\n",
    "model = build_model(ShallowKerasClassifier(), input_shape=(224, 224, 3), n_classes=16)\n",
    "model.summary()"
=======
    "from core.common.config import get_config_defaults\n",
    "from core.data.io import read_tfrecord_dataset_from_config\n",
    "from core.data.serialization import make_example_serializer\n",
    "\n",
    "config = get_config_defaults()\n",
    "example_serializer = make_example_serializer(config)\n",
    "dataset = read_tfrecord_dataset_from_config(\n",
    "    config,\n",
    "    config.DATA.TRAIN_DATASET_FILE_PATH,\n",
    "    example_serializer,\n",
    "    batch_size=1,\n",
    "    shuffle_buffer_size_coef=0,\n",
    ")\n",
    "sample = next(iter(dataset))\n",
    "# sample = next(iter(dataset.take(1)))\n",
    "image = sample[0][\"image\"]\n",
    "bbox = sample[1][\"bbox\"]\n",
    "image.shape, bbox.shape\n"
>>>>>>> add6509 (Initial commit)
   ]
  },
  {
   "cell_type": "code",
<<<<<<< HEAD
   "execution_count": 2,
=======
   "execution_count": null,
   "metadata": {},
   "outputs": [],
   "source": [
    "model = tf.keras.models.Sequential([\n",
    "    tf.keras.layers.Conv2D(16, (3, 3), activation='relu', input_shape=(128, 128, 3), name=\"image\"),\n",
    "    tf.keras.layers.MaxPooling2D((2, 2)),\n",
    "    tf.keras.layers.Conv2D(32, (3, 3), activation='relu'),\n",
    "    tf.keras.layers.MaxPooling2D((2, 2)),\n",
    "    tf.keras.layers.Conv2D(64, (3, 3), activation='relu'),\n",
    "    tf.keras.layers.MaxPooling2D((2, 2)),\n",
    "    tf.keras.layers.Flatten(),\n",
    "    tf.keras.layers.Dense(128, activation='relu'),\n",
    "    tf.keras.layers.Dense(4, activation='linear', name=\"bbox_output\")\n",
    "])\n",
    "\n",
    "model.compile(optimizer='adam', loss='mean_squared_error')"
   ]
  },
  {
   "cell_type": "code",
   "execution_count": null,
   "metadata": {},
   "outputs": [],
   "source": [
    "from core.modeling.model import make_compiled_model\n",
    "\n",
    "model = make_compiled_model(config).model\n",
    "history = model.fit(dataset, epochs=100, batch_size=1)"
   ]
  },
  {
   "cell_type": "code",
   "execution_count": null,
   "metadata": {},
   "outputs": [],
   "source": [
    "model.predict(image)"
   ]
  },
  {
   "cell_type": "code",
   "execution_count": null,
>>>>>>> add6509 (Initial commit)
   "metadata": {},
   "outputs": [],
   "source": [
    "import tensorflow as tf\n",
    "import tensorflow_addons as tfa"
   ]
  },
  {
   "cell_type": "code",
   "execution_count": null,
   "metadata": {},
   "outputs": [],
   "source": [
    "\n",
    "gl = tfa.losses.GIoULoss(reduction=tf.keras.losses.Reduction.NONE)\n",
    "boxes1 = tf.constant([[4.0, 3.0, 7.0, 5.0], [5.0, 6.0, 10.0, 7.0]])\n",
    "boxes2 = tf.constant([[3.0, 4.0, 6.0, 8.0], [14.0, 14.0, 15.0, 15.0]])\n",
    "loss = gl(boxes1, boxes2)\n",
    "loss, tf.reduce_mean(loss)"
   ]
  },
  {
   "cell_type": "code",
   "execution_count": null,
   "metadata": {},
   "outputs": [],
   "source": [
    "y_true = tf.constant([0, 0])\n",
    "y_pred = tf.constant([[1.0, 0.0], [0.0, 1.0]])\n",
    "\n",
    "classification_loss = tf.keras.losses.SparseCategoricalCrossentropy(\n",
    "    reduction=tf.keras.losses.Reduction.NONE\n",
    ")\n",
    "tf.reduce_mean(classification_loss(y_true, y_pred))"
   ]
  },
  {
   "cell_type": "code",
   "execution_count": null,
   "metadata": {},
   "outputs": [],
   "source": [
    "y_true = tf.constant([[1.0], [0.0]])\n",
    "y_pred = tf.constant([[0.5], [0.5]])\n",
    "\n",
    "confidence_loss = tf.keras.losses.BinaryCrossentropy(reduction=tf.keras.losses.Reduction.NONE)\n",
    "tf.reduce_mean(confidence_loss(y_true, y_pred))"
   ]
  },
  {
   "cell_type": "code",
<<<<<<< HEAD
   "execution_count": 5,
=======
   "execution_count": null,
>>>>>>> add6509 (Initial commit)
   "metadata": {},
   "outputs": [],
   "source": [
    "x = tf.constant([[0.5,  0.5], [0.1, 1.0]])\n",
    "y = tf.constant([[0.5,  0.5], [0.1, 1.0]])\n",
    "assert tf.experimental.numpy.allclose(x, y)"
   ]
<<<<<<< HEAD
=======
  },
  {
   "cell_type": "code",
   "execution_count": 3,
   "metadata": {},
   "outputs": [
    {
     "data": {
      "text/plain": [
       "([array([3, 1, 4, 2]), array([0, 3, 0, 0]), array([4, 2, 4, 4])],\n",
       " array([3, 1, 4, 2, 0, 3, 0, 0, 4, 2, 4, 4]))"
      ]
     },
     "execution_count": 3,
     "metadata": {},
     "output_type": "execute_result"
    }
   ],
   "source": [
    "import tensorflow as tf\n",
    "import numpy as np\n",
    "\n",
    "def get_indices(prediction):\n",
    "    return tf.argmax(prediction, axis=1).numpy()\n",
    "\n",
    "predictions = tf.convert_to_tensor(np.random.rand(3, 4, 5))\n",
    "\n",
    "all_indices = [get_indices(prediction) for prediction in predictions]\n",
    "all_indices, np.concatenate(all_indices)"
   ]
>>>>>>> add6509 (Initial commit)
  }
 ],
 "metadata": {
  "kernelspec": {
<<<<<<< HEAD
   "display_name": "wsl-ml",
=======
   "display_name": "ml",
>>>>>>> add6509 (Initial commit)
   "language": "python",
   "name": "python3"
  },
  "language_info": {
   "codemirror_mode": {
    "name": "ipython",
    "version": 3
   },
   "file_extension": ".py",
   "mimetype": "text/x-python",
   "name": "python",
   "nbconvert_exporter": "python",
   "pygments_lexer": "ipython3",
   "version": "3.10.6"
  },
  "orig_nbformat": 4,
  "vscode": {
   "interpreter": {
<<<<<<< HEAD
    "hash": "8cdf8a237a75e450ff23d4dcd4468658b94dfd4e6bc27bc7edc2738c751e3be8"
=======
    "hash": "692e13bfafb79b4e70c57aa9d2eafccbd1458e3cf6de592b604ccdb87c5dc09f"
>>>>>>> add6509 (Initial commit)
   }
  }
 },
 "nbformat": 4,
 "nbformat_minor": 2
}
